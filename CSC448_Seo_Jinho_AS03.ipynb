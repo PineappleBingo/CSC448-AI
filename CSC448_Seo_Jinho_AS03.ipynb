{
  "cells": [
    {
      "cell_type": "markdown",
      "metadata": {
        "id": "D3ucbG-0Vd_n"
      },
      "source": [
        "<a href=\"https://colab.research.google.com/github/PineappleBingo/CSC448-AI/blob/main/CSC448_Seo_Jinho_AS03.ipynb\" target=\"_parent\"><img src=\"https://colab.research.google.com/assets/colab-badge.svg\" alt=\"Open In Colab\"/></a>"
      ]
    },
    {
      "cell_type": "code",
      "execution_count": 75,
      "metadata": {
        "id": "ieJ4qlv5Vd_q"
      },
      "outputs": [],
      "source": [
        "# Imports section\n",
        "import io\n",
        "import matplotlib.pyplot as plt\n",
        "import pandas as pd\n",
        "import requests\n",
        "from sklearn.linear_model import LinearRegression\n",
        "from sklearn.metrics import mean_squared_error, r2_score\n",
        "from sklearn.model_selection import train_test_split"
      ]
    },
    {
      "cell_type": "markdown",
      "metadata": {
        "id": "VvpqV3tTVd_r"
      },
      "source": [
        "## Part 1. Loading the dataset"
      ]
    },
    {
      "cell_type": "code",
      "execution_count": 76,
      "metadata": {
        "id": "qoCco9OvVd_r"
      },
      "outputs": [
        {
          "name": "stdout",
          "output_type": "stream",
          "text": [
            "    Temperature °C  Mols KCL     Size nm^3\n",
            "0              469       647  6.244743e+05\n",
            "1              403       694  5.779610e+05\n",
            "2              302       975  6.196847e+05\n",
            "3              779       916  1.460449e+06\n",
            "4              901        18  4.325726e+04\n",
            "5              545       637  7.124634e+05\n",
            "6              660       519  7.006960e+05\n",
            "7              143       869  2.718260e+05\n",
            "8               89       461  8.919803e+04\n",
            "9              294       776  4.770210e+05\n",
            "10             991       117  2.441771e+05\n",
            "11             307       781  5.006455e+05\n",
            "12             206        70  3.145200e+04\n",
            "13             437       599  5.390215e+05\n",
            "14             566        75  9.185271e+04\n",
            "<class 'pandas.core.frame.DataFrame'>\n",
            "RangeIndex: 1000 entries, 0 to 999\n",
            "Data columns (total 3 columns):\n",
            " #   Column          Non-Null Count  Dtype  \n",
            "---  ------          --------------  -----  \n",
            " 0   Temperature °C  1000 non-null   int64  \n",
            " 1   Mols KCL        1000 non-null   int64  \n",
            " 2   Size nm^3       1000 non-null   float64\n",
            "dtypes: float64(1), int64(2)\n",
            "memory usage: 23.6 KB\n",
            "None\n",
            "\n",
            "Row x Columns: (1000, 3)\n",
            "\n",
            "Column Names: Index(['Temperature °C', 'Mols KCL', 'Size nm^3'], dtype='object')\n"
          ]
        }
      ],
      "source": [
        "# Using pandas load the dataset (load remotely, not locally)\n",
        "CSV_URL = \"https://raw.githubusercontent.com/profmcnich/example_notebook/main/science_data_large.csv\"\n",
        "# s = requests.get(CSV_URL).content\n",
        "# df = pd.read_csv(io.StringIO(s.decode('utf-8')))\n",
        "df = pd.read_csv(CSV_URL)\n",
        "\n",
        "# Output the first 15 rows of the data\n",
        "print(df.head(15))\n",
        "# Display a summary of the table information (number of datapoints, etc.)\n",
        "print(df.info())\n",
        "# Shape\n",
        "print(\"\\nRow x Columns:\", df.shape)\n",
        "# column names\n",
        "print(\"\\nColumn Names:\", df.columns)\n"
      ]
    },
    {
      "cell_type": "markdown",
      "metadata": {
        "id": "7OuKtJOpVd_r"
      },
      "source": [
        "## Part 2. Splitting the dataset"
      ]
    },
    {
      "cell_type": "code",
      "execution_count": 77,
      "metadata": {
        "id": "ey692r5EVd_s"
      },
      "outputs": [
        {
          "name": "stdout",
          "output_type": "stream",
          "text": [
            "X_train Shape: (900, 2)\n",
            "X_test Shape: (100, 2)\n",
            "Y_train Shape: (900,)\n",
            "Y_test Shape: (100,)\n"
          ]
        }
      ],
      "source": [
        "# Take the pandas dataset and split it into our features (X) and label (y)\n",
        "\n",
        "X = df[[\"Temperature °C\", \"Mols KCL\"]]\n",
        "Y = df[\"Size nm^3\"]\n",
        "\n",
        "# Use sklearn to split the features and labels into a training/test set. (90% train, 10% test)\n",
        "X_train, X_test, Y_train, Y_test = train_test_split(X, Y, test_size=0.1, random_state=10)\n",
        "# Set random_state(a.k.a seed) so that we can reproduce our results\n",
        "\n",
        "print(\"X_train Shape:\", X_train.shape)\n",
        "print(\"X_test Shape:\", X_test.shape)\n",
        "print(\"Y_train Shape:\", Y_train.shape)\n",
        "print(\"Y_test Shape:\", Y_test.shape)\n"
      ]
    },
    {
      "cell_type": "markdown",
      "metadata": {
        "id": "HGbTMDOwVd_s"
      },
      "source": [
        "## Part 3. Perform a Linear Regression"
      ]
    },
    {
      "cell_type": "code",
      "execution_count": 78,
      "metadata": {
        "id": "ET4kuqIWVd_s"
      },
      "outputs": [
        {
          "name": "stdout",
          "output_type": "stream",
          "text": [
            "[500, 500] -> Preds_Y: 534158.5946029222\n",
            "[600, 600] -> Preds_Y: 725035.7824817223\n",
            "[700, 700] -> Preds_Y: 915912.9703605224\n",
            "[800, 800] -> Preds_Y: 1106790.1582393225\n",
            "\n",
            "Score: 0.8838673863856773\n",
            "\n",
            "Coefficients: \n",
            " 876.5603799396862\n",
            "Intercept: -420227.3447910782\n"
          ]
        },
        {
          "name": "stderr",
          "output_type": "stream",
          "text": [
            "D:\\Program Files\\Python310\\lib\\site-packages\\sklearn\\base.py:450: UserWarning: X does not have valid feature names, but LinearRegression was fitted with feature names\n",
            "  warnings.warn(\n"
          ]
        }
      ],
      "source": [
        "# Use sklearn to train a model on the training set\n",
        "\n",
        "clf = LinearRegression()\n",
        "clf.fit(X_train, Y_train)\n",
        "\n",
        "# # Make predictions using the testing set\n",
        "# y_pred = clf.predict(X_test)\n",
        "\n",
        "# # The mean squared error\n",
        "# print(\"Mean squared error: %.2f\" % mean_squared_error(Y_test, y_pred))\n",
        "# # The coefficient of determination: 1 is perfect prediction\n",
        "# print(\"Coefficient of determination: %.2f\" % r2_score(Y_test, y_pred))\n",
        "\n",
        "# # Plot outputs\n",
        "# plt.scatter(X_test, Y_test, color=\"black\")\n",
        "# plt.plot(X_test, y_pred, color=\"blue\", linewidth=3)\n",
        "\n",
        "# plt.xticks(())\n",
        "# plt.yticks(())\n",
        "\n",
        "# plt.show()\n",
        "# \n",
        "# https://scikit-learn.org/stable/auto_examples/linear_model/plot_ols.html#sphx-glr-auto-examples-linear-model-plot-ols-py\n",
        "# -----------------------------------------------\n",
        "\n",
        "# Create a sample datapoint and predict the output of that sample with the trained model\n",
        "sample = [[500, 500], [600, 600], [700, 700], [800, 800]]\n",
        "preds_y = clf.predict(sample)\n",
        "\n",
        "for idx, pred in enumerate(preds_y):\n",
        "    print(str(sample[idx]) + \" -> Preds_Y:\", pred)\n",
        "\n",
        "# Report on the score for that model, in your own words (markdown, not code) explain what the score means\n",
        "print(\"\\nScore:\", clf.score(X_test, Y_test))\n",
        "\n",
        "# Explanation\n",
        "# Using linearRegression algorithm, we traind the data set X and Y, predicting new Ys depends on sample datapoints.\n",
        "# Based on the scores, we can tell how accurately the chosen algorithm woulde predict outputs by given trained dataset\n",
        "# ; the hight score means higher accuratcy in predecting outouts. In our case, score is 88% which means linearRegression \n",
        "# algorithm has 88% accuracy to predict expanding size of the slime by temperature and amounts of KCL after one day.\n",
        "   \n",
        "# Extract the coefficents and intercept from the model and write an equation for your h(x) using LaTeX\n",
        "print(\"\\nCoefficients: \\n\", clf.coef_[0])\n",
        "print(\"Intercept:\", clf.intercept_ )\n"
      ]
    },
    {
      "cell_type": "code",
      "execution_count": null,
      "metadata": {},
      "outputs": [],
      "source": [
        "# H(x)"
      ]
    },
    {
      "cell_type": "markdown",
      "metadata": {},
      "source": [
        "\\begin{gather*}\n",
        "h(x) = 876.56x -420227.34\n",
        "\\end{gather*}"
      ]
    },
    {
      "cell_type": "markdown",
      "metadata": {
        "id": "eBFDiIDcVd_t"
      },
      "source": [
        "Sample equation: $E = mc^2$"
      ]
    },
    {
      "cell_type": "markdown",
      "metadata": {
        "id": "mY_nbq4rVd_t"
      },
      "source": [
        "## Part 4. Use Cross Validation"
      ]
    },
    {
      "cell_type": "code",
      "execution_count": 79,
      "metadata": {
        "id": "Se13DqEGVd_t"
      },
      "outputs": [],
      "source": [
        "# Use the cross_val_score function to repeat your experiment across many shuffles of the data\n",
        "\n",
        "# Report on their finding and their significance"
      ]
    },
    {
      "cell_type": "markdown",
      "metadata": {
        "id": "lJpNUSTzVd_u"
      },
      "source": [
        "## Part 5. Using Polynomial Regression"
      ]
    },
    {
      "cell_type": "code",
      "execution_count": 80,
      "metadata": {
        "id": "lMuA8pgHVd_u"
      },
      "outputs": [],
      "source": [
        "# Using the PolynomialFeatures library perform another regression on an augmented dataset of degree 2\n",
        "\n",
        "# Report on the metrics and output the resultant equation as you did in Part 3."
      ]
    }
  ],
  "metadata": {
    "colab": {
      "name": "CSC448_Seo_Jinho_AS03.ipynb",
      "provenance": []
    },
    "kernelspec": {
      "display_name": "Python 3 (ipykernel)",
      "language": "python",
      "name": "python3"
    },
    "language_info": {
      "codemirror_mode": {
        "name": "ipython",
        "version": 3
      },
      "file_extension": ".py",
      "mimetype": "text/x-python",
      "name": "python",
      "nbconvert_exporter": "python",
      "pygments_lexer": "ipython3",
      "version": "3.10.0"
    }
  },
  "nbformat": 4,
  "nbformat_minor": 0
}

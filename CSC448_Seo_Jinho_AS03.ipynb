{
  "cells": [
    {
      "cell_type": "markdown",
      "metadata": {
        "id": "D3ucbG-0Vd_n"
      },
      "source": [
        "<a href=\"https://colab.research.google.com/github/PineappleBingo/CSC448-AI/blob/main/CSC448_Seo_Jinho_AS03.ipynb\" target=\"_parent\"><img src=\"https://colab.research.google.com/assets/colab-badge.svg\" alt=\"Open In Colab\"/></a>"
      ]
    },
    {
      "cell_type": "code",
      "execution_count": 307,
      "metadata": {
        "id": "ieJ4qlv5Vd_q"
      },
      "outputs": [],
      "source": [
        "# Imports section\n",
        "import matplotlib.pyplot as plt\n",
        "import pandas as pd\n",
        "from sklearn.linear_model import LinearRegression\n",
        "from sklearn.preprocessing import PolynomialFeatures\n",
        "from sklearn.model_selection import cross_val_score\n",
        "from sklearn.model_selection import ShuffleSplit\n",
        "from sklearn.model_selection import train_test_split\n"
      ]
    },
    {
      "cell_type": "markdown",
      "metadata": {
        "id": "VvpqV3tTVd_r"
      },
      "source": [
        "## Part 1. Loading the dataset"
      ]
    },
    {
      "cell_type": "code",
      "execution_count": 308,
      "metadata": {
        "id": "qoCco9OvVd_r"
      },
      "outputs": [
        {
          "name": "stdout",
          "output_type": "stream",
          "text": [
            "    Temperature °C  Mols KCL     Size nm^3\n",
            "0              469       647  6.244743e+05\n",
            "1              403       694  5.779610e+05\n",
            "2              302       975  6.196847e+05\n",
            "3              779       916  1.460449e+06\n",
            "4              901        18  4.325726e+04\n",
            "5              545       637  7.124634e+05\n",
            "6              660       519  7.006960e+05\n",
            "7              143       869  2.718260e+05\n",
            "8               89       461  8.919803e+04\n",
            "9              294       776  4.770210e+05\n",
            "10             991       117  2.441771e+05\n",
            "11             307       781  5.006455e+05\n",
            "12             206        70  3.145200e+04\n",
            "13             437       599  5.390215e+05\n",
            "14             566        75  9.185271e+04\n",
            "<class 'pandas.core.frame.DataFrame'>\n",
            "RangeIndex: 1000 entries, 0 to 999\n",
            "Data columns (total 3 columns):\n",
            " #   Column          Non-Null Count  Dtype  \n",
            "---  ------          --------------  -----  \n",
            " 0   Temperature °C  1000 non-null   int64  \n",
            " 1   Mols KCL        1000 non-null   int64  \n",
            " 2   Size nm^3       1000 non-null   float64\n",
            "dtypes: float64(1), int64(2)\n",
            "memory usage: 23.6 KB\n",
            "None\n",
            "\n",
            "Row x Columns: (1000, 3)\n",
            "\n",
            "Column Names: Index(['Temperature °C', 'Mols KCL', 'Size nm^3'], dtype='object')\n"
          ]
        }
      ],
      "source": [
        "# Using pandas load the dataset (load remotely, not locally)\n",
        "CSV_URL = \"https://raw.githubusercontent.com/profmcnich/example_notebook/main/science_data_large.csv\"\n",
        "# s = requests.get(CSV_URL).content\n",
        "# df = pd.read_csv(io.StringIO(s.decode('utf-8')))\n",
        "df = pd.read_csv(CSV_URL)\n",
        "\n",
        "# Output the first 15 rows of the data\n",
        "print(df.head(15))\n",
        "# Display a summary of the table information (number of datapoints, etc.)\n",
        "print(df.info())\n",
        "# Shape\n",
        "print(\"\\nRow x Columns:\", df.shape)\n",
        "# column names\n",
        "print(\"\\nColumn Names:\", df.columns)\n"
      ]
    },
    {
      "cell_type": "markdown",
      "metadata": {
        "id": "7OuKtJOpVd_r"
      },
      "source": [
        "## Part 2. Splitting the dataset"
      ]
    },
    {
      "cell_type": "code",
      "execution_count": 309,
      "metadata": {
        "id": "ey692r5EVd_s"
      },
      "outputs": [
        {
          "ename": "ValueError",
          "evalue": "Found input variables with inconsistent numbers of samples: [2000, 1000]",
          "output_type": "error",
          "traceback": [
            "\u001b[1;31m---------------------------------------------------------------------------\u001b[0m",
            "\u001b[1;31mValueError\u001b[0m                                Traceback (most recent call last)",
            "\u001b[1;32md:\\gitprojects\\CSC448-AI\\CSC448_Seo_Jinho_AS03.ipynb Cell 6'\u001b[0m in \u001b[0;36m<cell line: 14>\u001b[1;34m()\u001b[0m\n\u001b[0;32m     <a href='vscode-notebook-cell:/d%3A/gitprojects/CSC448-AI/CSC448_Seo_Jinho_AS03.ipynb#ch0000005?line=11'>12</a>\u001b[0m X1_train, X1_test, Y_train, Y_test \u001b[39m=\u001b[39m train_test_split(X1, Y, test_size\u001b[39m=\u001b[39m\u001b[39m0.1\u001b[39m, random_state\u001b[39m=\u001b[39m\u001b[39m10\u001b[39m)\n\u001b[0;32m     <a href='vscode-notebook-cell:/d%3A/gitprojects/CSC448-AI/CSC448_Seo_Jinho_AS03.ipynb#ch0000005?line=12'>13</a>\u001b[0m X2_train, X2_test, Y_train, Y_test \u001b[39m=\u001b[39m train_test_split(X2, Y, test_size\u001b[39m=\u001b[39m\u001b[39m0.1\u001b[39m, random_state\u001b[39m=\u001b[39m\u001b[39m10\u001b[39m)\n\u001b[1;32m---> <a href='vscode-notebook-cell:/d%3A/gitprojects/CSC448-AI/CSC448_Seo_Jinho_AS03.ipynb#ch0000005?line=13'>14</a>\u001b[0m X3_train, X3_test, Y_train, Y_test \u001b[39m=\u001b[39m train_test_split(X3, Y, test_size\u001b[39m=\u001b[39;49m\u001b[39m0.1\u001b[39;49m, random_state\u001b[39m=\u001b[39;49m\u001b[39m10\u001b[39;49m)\n\u001b[0;32m     <a href='vscode-notebook-cell:/d%3A/gitprojects/CSC448-AI/CSC448_Seo_Jinho_AS03.ipynb#ch0000005?line=14'>15</a>\u001b[0m \u001b[39m# Set random_state(a.k.a seed) so that we can reproduce our results\u001b[39;00m\n\u001b[0;32m     <a href='vscode-notebook-cell:/d%3A/gitprojects/CSC448-AI/CSC448_Seo_Jinho_AS03.ipynb#ch0000005?line=16'>17</a>\u001b[0m \u001b[39mprint\u001b[39m(\u001b[39m\"\u001b[39m\u001b[39m{:<15}\u001b[39;00m\u001b[39m{}\u001b[39;00m\u001b[39m{}\u001b[39;00m\u001b[39m{:<15}\u001b[39;00m\u001b[39m{}\u001b[39;00m\u001b[39m\"\u001b[39m\u001b[39m.\u001b[39mformat(\u001b[39m\"\u001b[39m\u001b[39mX1_train Shape:\u001b[39m\u001b[39m\"\u001b[39m, X1_train\u001b[39m.\u001b[39mshape, \u001b[39m\"\u001b[39m\u001b[39m\\t\u001b[39;00m\u001b[39m\"\u001b[39m, \u001b[39m\"\u001b[39m\u001b[39mX1_test Shape:\u001b[39m\u001b[39m\"\u001b[39m, X1_test\u001b[39m.\u001b[39mshape))\n",
            "File \u001b[1;32m~\\AppData\\Local\\Programs\\Python\\Python310\\lib\\site-packages\\sklearn\\model_selection\\_split.py:2417\u001b[0m, in \u001b[0;36mtrain_test_split\u001b[1;34m(test_size, train_size, random_state, shuffle, stratify, *arrays)\u001b[0m\n\u001b[0;32m   <a href='file:///c%3A/Users/pinea/AppData/Local/Programs/Python/Python310/lib/site-packages/sklearn/model_selection/_split.py?line=2413'>2414</a>\u001b[0m \u001b[39mif\u001b[39;00m n_arrays \u001b[39m==\u001b[39m \u001b[39m0\u001b[39m:\n\u001b[0;32m   <a href='file:///c%3A/Users/pinea/AppData/Local/Programs/Python/Python310/lib/site-packages/sklearn/model_selection/_split.py?line=2414'>2415</a>\u001b[0m     \u001b[39mraise\u001b[39;00m \u001b[39mValueError\u001b[39;00m(\u001b[39m\"\u001b[39m\u001b[39mAt least one array required as input\u001b[39m\u001b[39m\"\u001b[39m)\n\u001b[1;32m-> <a href='file:///c%3A/Users/pinea/AppData/Local/Programs/Python/Python310/lib/site-packages/sklearn/model_selection/_split.py?line=2416'>2417</a>\u001b[0m arrays \u001b[39m=\u001b[39m indexable(\u001b[39m*\u001b[39;49marrays)\n\u001b[0;32m   <a href='file:///c%3A/Users/pinea/AppData/Local/Programs/Python/Python310/lib/site-packages/sklearn/model_selection/_split.py?line=2418'>2419</a>\u001b[0m n_samples \u001b[39m=\u001b[39m _num_samples(arrays[\u001b[39m0\u001b[39m])\n\u001b[0;32m   <a href='file:///c%3A/Users/pinea/AppData/Local/Programs/Python/Python310/lib/site-packages/sklearn/model_selection/_split.py?line=2419'>2420</a>\u001b[0m n_train, n_test \u001b[39m=\u001b[39m _validate_shuffle_split(\n\u001b[0;32m   <a href='file:///c%3A/Users/pinea/AppData/Local/Programs/Python/Python310/lib/site-packages/sklearn/model_selection/_split.py?line=2420'>2421</a>\u001b[0m     n_samples, test_size, train_size, default_test_size\u001b[39m=\u001b[39m\u001b[39m0.25\u001b[39m\n\u001b[0;32m   <a href='file:///c%3A/Users/pinea/AppData/Local/Programs/Python/Python310/lib/site-packages/sklearn/model_selection/_split.py?line=2421'>2422</a>\u001b[0m )\n",
            "File \u001b[1;32m~\\AppData\\Local\\Programs\\Python\\Python310\\lib\\site-packages\\sklearn\\utils\\validation.py:378\u001b[0m, in \u001b[0;36mindexable\u001b[1;34m(*iterables)\u001b[0m\n\u001b[0;32m    <a href='file:///c%3A/Users/pinea/AppData/Local/Programs/Python/Python310/lib/site-packages/sklearn/utils/validation.py?line=358'>359</a>\u001b[0m \u001b[39m\"\"\"Make arrays indexable for cross-validation.\u001b[39;00m\n\u001b[0;32m    <a href='file:///c%3A/Users/pinea/AppData/Local/Programs/Python/Python310/lib/site-packages/sklearn/utils/validation.py?line=359'>360</a>\u001b[0m \n\u001b[0;32m    <a href='file:///c%3A/Users/pinea/AppData/Local/Programs/Python/Python310/lib/site-packages/sklearn/utils/validation.py?line=360'>361</a>\u001b[0m \u001b[39mChecks consistent length, passes through None, and ensures that everything\u001b[39;00m\n\u001b[1;32m   (...)\u001b[0m\n\u001b[0;32m    <a href='file:///c%3A/Users/pinea/AppData/Local/Programs/Python/Python310/lib/site-packages/sklearn/utils/validation.py?line=373'>374</a>\u001b[0m \u001b[39m    sparse matrix, or dataframe) or `None`.\u001b[39;00m\n\u001b[0;32m    <a href='file:///c%3A/Users/pinea/AppData/Local/Programs/Python/Python310/lib/site-packages/sklearn/utils/validation.py?line=374'>375</a>\u001b[0m \u001b[39m\"\"\"\u001b[39;00m\n\u001b[0;32m    <a href='file:///c%3A/Users/pinea/AppData/Local/Programs/Python/Python310/lib/site-packages/sklearn/utils/validation.py?line=376'>377</a>\u001b[0m result \u001b[39m=\u001b[39m [_make_indexable(X) \u001b[39mfor\u001b[39;00m X \u001b[39min\u001b[39;00m iterables]\n\u001b[1;32m--> <a href='file:///c%3A/Users/pinea/AppData/Local/Programs/Python/Python310/lib/site-packages/sklearn/utils/validation.py?line=377'>378</a>\u001b[0m check_consistent_length(\u001b[39m*\u001b[39;49mresult)\n\u001b[0;32m    <a href='file:///c%3A/Users/pinea/AppData/Local/Programs/Python/Python310/lib/site-packages/sklearn/utils/validation.py?line=378'>379</a>\u001b[0m \u001b[39mreturn\u001b[39;00m result\n",
            "File \u001b[1;32m~\\AppData\\Local\\Programs\\Python\\Python310\\lib\\site-packages\\sklearn\\utils\\validation.py:332\u001b[0m, in \u001b[0;36mcheck_consistent_length\u001b[1;34m(*arrays)\u001b[0m\n\u001b[0;32m    <a href='file:///c%3A/Users/pinea/AppData/Local/Programs/Python/Python310/lib/site-packages/sklearn/utils/validation.py?line=329'>330</a>\u001b[0m uniques \u001b[39m=\u001b[39m np\u001b[39m.\u001b[39munique(lengths)\n\u001b[0;32m    <a href='file:///c%3A/Users/pinea/AppData/Local/Programs/Python/Python310/lib/site-packages/sklearn/utils/validation.py?line=330'>331</a>\u001b[0m \u001b[39mif\u001b[39;00m \u001b[39mlen\u001b[39m(uniques) \u001b[39m>\u001b[39m \u001b[39m1\u001b[39m:\n\u001b[1;32m--> <a href='file:///c%3A/Users/pinea/AppData/Local/Programs/Python/Python310/lib/site-packages/sklearn/utils/validation.py?line=331'>332</a>\u001b[0m     \u001b[39mraise\u001b[39;00m \u001b[39mValueError\u001b[39;00m(\n\u001b[0;32m    <a href='file:///c%3A/Users/pinea/AppData/Local/Programs/Python/Python310/lib/site-packages/sklearn/utils/validation.py?line=332'>333</a>\u001b[0m         \u001b[39m\"\u001b[39m\u001b[39mFound input variables with inconsistent numbers of samples: \u001b[39m\u001b[39m%r\u001b[39;00m\u001b[39m\"\u001b[39m\n\u001b[0;32m    <a href='file:///c%3A/Users/pinea/AppData/Local/Programs/Python/Python310/lib/site-packages/sklearn/utils/validation.py?line=333'>334</a>\u001b[0m         \u001b[39m%\u001b[39m [\u001b[39mint\u001b[39m(l) \u001b[39mfor\u001b[39;00m l \u001b[39min\u001b[39;00m lengths]\n\u001b[0;32m    <a href='file:///c%3A/Users/pinea/AppData/Local/Programs/Python/Python310/lib/site-packages/sklearn/utils/validation.py?line=334'>335</a>\u001b[0m     )\n",
            "\u001b[1;31mValueError\u001b[0m: Found input variables with inconsistent numbers of samples: [2000, 1000]"
          ]
        }
      ],
      "source": [
        "# Take the pandas dataset and split it into our features (X) and label (y)\n",
        "\n",
        "features = [\"Temperature °C\", \"Mols KCL\"]\n",
        "target = \"Size nm^3\"\n",
        "\n",
        "X1 = df[features[0]].values.reshape(-1, 1)\n",
        "X2 = df[features[1]].values.reshape(-1, 1)\n",
        "\n",
        "Y = df[target].values\n",
        "\n",
        "# Use sklearn to split the features and labels into a training/test set. (90% train, 10% test)\n",
        "X1_train, X1_test, Y_train, Y_test = train_test_split(X1, Y, test_size=0.1, random_state=10)\n",
        "X2_train, X2_test, Y_train, Y_test = train_test_split(X2, Y, test_size=0.1, random_state=10)\n",
        "X3_train, X3_test, Y_train, Y_test = train_test_split(X3, Y, test_size=0.1, random_state=10)\n",
        "# Set random_state(a.k.a seed) so that we can reproduce our results\n",
        "\n",
        "print(\"{:<15}{}{}{:<15}{}\".format(\"X1_train Shape:\", X1_train.shape, \"\\t\", \"X1_test Shape:\", X1_test.shape))\n",
        "print(\"{:<15}{}{}{:<15}{}\".format(\"X2_train Shape:\", X2_train.shape, \"\\t\", \"X2_test Shape:\", X2_test.shape))\n",
        "print(\"{:<15}{}{}{:<15}{}\".format(\"X3_train Shape:\", X3_train.shape, \"\\t\", \"X3_test Shape:\", X3_test.shape))\n",
        "print(\"{:<15}{}{}{:<15}{}\".format(\"Y_train Shape:\", Y_train.shape, \"\\t\", \"Y_test Shape:\", Y_test.shape))\n"
      ]
    },
    {
      "cell_type": "markdown",
      "metadata": {
        "id": "HGbTMDOwVd_s"
      },
      "source": [
        "## Part 3. Perform a Linear Regression"
      ]
    },
    {
      "cell_type": "code",
      "execution_count": null,
      "metadata": {
        "id": "ET4kuqIWVd_s"
      },
      "outputs": [
        {
          "name": "stdout",
          "output_type": "stream",
          "text": [
            "[500] -> Preds_Y1: 506604.5707911067\n",
            "[600] -> Preds_Y1: 605620.8964563312\n",
            "[700] -> Preds_Y1: 704637.222121556\n",
            "[800] -> Preds_Y1: 803653.5477867809\n",
            "---------------------------------------\n",
            "[500] -> Preds_Y2: 506604.5707911067\n",
            "[600] -> Preds_Y2: 605620.8964563312\n",
            "[700] -> Preds_Y2: 704637.222121556\n",
            "[800] -> Preds_Y2: 803653.5477867809\n",
            "---------------------------------------\n",
            "X1| Score: 0.5216101556308503\n",
            "---------------------------------------\n",
            "X2| Score: 0.6141402305954329\n",
            "---------------------------------------\n",
            "x1 | Coefficients: \n",
            " [990.16325665]\n",
            "x1 | Intercept: 11522.942464983149\n",
            "---------------------------------------\n",
            "x2 | Coefficients: \n",
            " [1128.56378403]\n",
            "x2 | Intercept: -24581.02433657489\n"
          ]
        }
      ],
      "source": [
        "# Use sklearn to train a model on the training set\n",
        "\n",
        "# Temperature\n",
        "clf_x1 = LinearRegression()\n",
        "clf_x1.fit(X1_train, Y_train)\n",
        "\n",
        "# KCL\n",
        "clf_x2 = LinearRegression()\n",
        "clf_x2.fit(X2_train, Y_train)\n",
        "\n",
        "# # Make predictions using the testing set\n",
        "# y_pred = clf.predict(X_test)\n",
        "\n",
        "# # The mean squared error\n",
        "# print(\"Mean squared error: %.2f\" % mean_squared_error(Y_test, y_pred))\n",
        "# # The coefficient of determination: 1 is perfect prediction\n",
        "# print(\"Coefficient of determination: %.2f\" % r2_score(Y_test, y_pred))\n",
        "\n",
        "# Plot outputs\n",
        "# plt.scatter(X_test, Y_test, color=\"black\")\n",
        "# plt.plot(X_test, y_pred, color=\"blue\", linewidth=3)\n",
        "\n",
        "# plt.xticks(())\n",
        "# plt.yticks(())\n",
        "\n",
        "# plt.show()\n",
        "# \n",
        "# https://scikit-learn.org/stable/auto_examples/linear_model/plot_ols.html#sphx-glr-auto-examples-linear-model-plot-ols-py\n",
        "# -----------------------------------------------\n",
        "\n",
        "# Create a sample datapoint and predict the output of that sample with the trained model\n",
        "sample = [[500], [600], [700], [800]]\n",
        "\n",
        "preds_y1 = clf_x1.predict(sample)\n",
        "for idx, pred in enumerate(preds_y1):\n",
        "    print(str(sample[idx]) + \" -> Preds_Y1:\", pred)\n",
        "\n",
        "print(\"---------------------------------------\")\n",
        "\n",
        "preds_y2 = clf_x2.predict(sample)\n",
        "for idx, pred in enumerate(preds_y1):\n",
        "    print(str(sample[idx]) + \" -> Preds_Y2:\", pred)\n",
        "\n",
        "# Report on the score for that model, in your own words (markdown, not code) explain what the score means\n",
        "print(\"---------------------------------------\")\n",
        "print(\"X1| Score:\", clf_x1.score(X1_test, Y_test))\n",
        "print(\"---------------------------------------\")\n",
        "print(\"X2| Score:\", clf_x2.score(X2_test, Y_test))\n",
        "\n",
        "# Explanation\n",
        "# Using linearRegression algorithm, we traind the data set X and Y, predicting new Ys depends on sample datapoints.\n",
        "# Based on the scores, we can tell how accurately the chosen algorithm woulde predict outputs by given trained dataset\n",
        "# ; the hight score means higher accuratcy in predecting outouts. In our case, score is 88% which means linearRegression \n",
        "# algorithm has 88% accuracy to predict expanding size of the slime by temperature and amounts of KCL after one day.\n",
        "   \n",
        "# Extract the coefficents and intercept from the model and write an equation for your h(x) using LaTeX\n",
        "print(\"---------------------------------------\")\n",
        "print(\"x1 | Coefficients: \\n\", clf_x1.coef_)\n",
        "print(\"x1 | Intercept:\", clf_x1.intercept_ )\n",
        "\n",
        "print(\"---------------------------------------\")\n",
        "\n",
        "print(\"x2 | Coefficients: \\n\", clf_x2.coef_)\n",
        "print(\"x2 | Intercept:\", clf_x2.intercept_ )\n"
      ]
    },
    {
      "cell_type": "code",
      "execution_count": null,
      "metadata": {},
      "outputs": [],
      "source": [
        "# y      : response variable\n",
        "# n      : number of features\n",
        "# x_n    : n-th feature\n",
        "# beta_n: regression coefficient(weight) of the n-th feature\n",
        "# beta  : y-intercept\n",
        "\n",
        "# y = beta + beta_1(x_1) + beta_2(x_2) + .... + beta_n(x_n) "
      ]
    },
    {
      "cell_type": "code",
      "execution_count": null,
      "metadata": {},
      "outputs": [],
      "source": [
        "# H_temp(x) respects to Temperature\n",
        "# H_kcl(x) respects to KCL"
      ]
    },
    {
      "cell_type": "markdown",
      "metadata": {},
      "source": [
        "\\begin{gather*}\n",
        "H_{temp}(x) = 990.16x + 11522.94\n",
        "\\end{gather*}\n",
        "\n",
        "\\begin{gather*}\n",
        "H_{KCL}(x) = 1128.56x - 24581.02\n",
        "\\end{gather*}"
      ]
    },
    {
      "cell_type": "code",
      "execution_count": null,
      "metadata": {},
      "outputs": [
        {
          "data": {
            "image/png": "[encoded data removed]",
            "text/plain": [
              "<Figure size 504x252 with 1 Axes>"
            ]
          },
          "metadata": {
            "needs_background": "light"
          },
          "output_type": "display_data"
        },
        {
          "data": {
            "image/png": "[encoded data removed]",
            "text/plain": [
              "<Figure size 504x252 with 1 Axes>"
            ]
          },
          "metadata": {
            "needs_background": "light"
          },
          "output_type": "display_data"
        }
      ],
      "source": [
        "# Plot outputs\n",
        "preds_y1 = clf_x1.predict(X1_test)\n",
        "fig1, ax = plt.subplots(figsize=(7, 3.5))\n",
        "\n",
        "ax.plot(X1_test, preds_y1, color='red', label='LinearRegression model')\n",
        "ax.scatter(X1_test, Y_test, edgecolor='k', facecolor='grey', alpha=0.7, label='Sample data')\n",
        "ax.set_ylabel('Size', fontsize=14)\n",
        "ax.set_xlabel('Temperature', fontsize=14)\n",
        "ax.legend(facecolor='white', fontsize=11)\n",
        "ax.text(0.55, 0.15, '$y = %.2f x_1 + %.2f $' % (clf_x1.coef_[0], abs(clf_x1.intercept_)), fontsize=17, transform=ax.transAxes)\n",
        "\n",
        "fig1.tight_layout()\n",
        "\n",
        "\n",
        "preds_y2 = clf_x2.predict(X2_test)\n",
        "fig2, bx = plt.subplots(figsize=(7, 3.5))\n",
        "\n",
        "bx.plot(X2_test, preds_y2, color='blue', label='LinearRegression model')\n",
        "bx.scatter(X2_test, Y_test, edgecolor='k', facecolor='grey', alpha=0.7, label='Sample data')\n",
        "bx.set_ylabel('Size', fontsize=14)\n",
        "bx.set_xlabel('Mols KCL', fontsize=14)\n",
        "bx.legend(facecolor='white', fontsize=11)\n",
        "bx.text(0.55, 0.15, '$y = %.2f x_1 - %.2f $' % (clf_x2.coef_[0], abs(clf_x2.intercept_)), fontsize=17, transform=bx.transAxes)\n",
        "\n",
        "fig2.tight_layout()"
      ]
    },
    {
      "cell_type": "markdown",
      "metadata": {
        "id": "eBFDiIDcVd_t"
      },
      "source": [
        "Sample equation: $E = mc^2$"
      ]
    },
    {
      "cell_type": "markdown",
      "metadata": {
        "id": "mY_nbq4rVd_t"
      },
      "source": [
        "## Part 4. Use Cross Validation"
      ]
    },
    {
      "cell_type": "code",
      "execution_count": null,
      "metadata": {
        "id": "Se13DqEGVd_t"
      },
      "outputs": [
        {
          "name": "stdout",
          "output_type": "stream",
          "text": [
            "\n",
            "x1_cross_val_score:\n",
            "Accuracy for the Split no. 0 on the test set: 0.5216101556308503\n",
            "Accuracy for the Split no. 1 on the test set: 0.4018973575757282\n",
            "Accuracy for the Split no. 2 on the test set: 0.4118851811386516\n",
            "Accuracy for the Split no. 3 on the test set: 0.4307815463184548\n",
            "Accuracy for the Split no. 4 on the test set: 0.3746802943959071\n",
            "\n",
            "x2_cross_val_score:\n",
            "Accuracy for the Split no. 0 on the test set: 0.6141402305954329\n",
            "Accuracy for the Split no. 1 on the test set: 0.5471025273671339\n",
            "Accuracy for the Split no. 2 on the test set: 0.47571073997252644\n",
            "Accuracy for the Split no. 3 on the test set: 0.511614812649766\n",
            "Accuracy for the Split no. 4 on the test set: 0.49580602126385853\n"
          ]
        }
      ],
      "source": [
        "# Use the cross_val_score function to repeat your experiment across many shuffles of the data\n",
        "\n",
        "# LinearRegression model split of 5, training/test set (90% train, 10% test)\n",
        "cv = ShuffleSplit(n_splits=5, test_size=0.1, random_state=10)\n",
        "clf = LinearRegression().fit(X1, Y)\n",
        "\n",
        "# Cross val score for x1:Temperature\n",
        "print(\"\\nx1_cross_val_score:\")\n",
        "for i, x1_cvs in enumerate(cross_val_score(clf, X1, Y, cv=cv)):\n",
        "    print(f\"Accuracy for the Split no. {i} on the test set: {x1_cvs}\")\n",
        "\n",
        "# Cross val score for x2:Mols KCL\n",
        "print(\"\\nx2_cross_val_score:\")\n",
        "for i, x2_cvs in enumerate(cross_val_score(clf, X2, Y, cv=cv)):\n",
        "    print(f\"Accuracy for the Split no. {i} on the test set: {x2_cvs}\")\n",
        "\n",
        "\n",
        "# Report on their finding and their significance\n",
        "# Running cross validation scores in model of single feature, Temperature and Mols KCL in linerRegression with 5 shuffle \n",
        "# splits 10% test size resulted in underfitting for both cases. Since the dataset are highly scarttered in both cases \n",
        "# as shown above graphes, it scored low accuracy and higher error rates training in LinerRegression model. \n"
      ]
    },
    {
      "cell_type": "markdown",
      "metadata": {
        "id": "lJpNUSTzVd_u"
      },
      "source": [
        "## Part 5. Using Polynomial Regression"
      ]
    },
    {
      "cell_type": "code",
      "execution_count": null,
      "metadata": {
        "id": "lMuA8pgHVd_u"
      },
      "outputs": [
        {
          "ename": "ValueError",
          "evalue": "Found input variables with inconsistent numbers of samples: [2000, 1000]",
          "output_type": "error",
          "traceback": [
            "\u001b[1;31m---------------------------------------------------------------------------\u001b[0m",
            "\u001b[1;31mValueError\u001b[0m                                Traceback (most recent call last)",
            "\u001b[1;32md:\\gitprojects\\CSC448-AI\\CSC448_Seo_Jinho_AS03.ipynb Cell 17'\u001b[0m in \u001b[0;36m<cell line: 5>\u001b[1;34m()\u001b[0m\n\u001b[0;32m      <a href='vscode-notebook-cell:/d%3A/gitprojects/CSC448-AI/CSC448_Seo_Jinho_AS03.ipynb#ch0000016?line=0'>1</a>\u001b[0m \u001b[39m# Using the PolynomialFeatures library perform another regression on an augmented dataset of degree 2\u001b[39;00m\n\u001b[0;32m      <a href='vscode-notebook-cell:/d%3A/gitprojects/CSC448-AI/CSC448_Seo_Jinho_AS03.ipynb#ch0000016?line=2'>3</a>\u001b[0m X3 \u001b[39m=\u001b[39m df[features]\u001b[39m.\u001b[39mvalues\u001b[39m.\u001b[39mreshape(\u001b[39m-\u001b[39m\u001b[39m1\u001b[39m, \u001b[39m1\u001b[39m)\n\u001b[1;32m----> <a href='vscode-notebook-cell:/d%3A/gitprojects/CSC448-AI/CSC448_Seo_Jinho_AS03.ipynb#ch0000016?line=4'>5</a>\u001b[0m X3_train, X3_test, Y_train, Y_test \u001b[39m=\u001b[39m train_test_split(X3, Y, test_size\u001b[39m=\u001b[39;49m\u001b[39m0.1\u001b[39;49m, random_state\u001b[39m=\u001b[39;49m\u001b[39m10\u001b[39;49m)\n\u001b[0;32m      <a href='vscode-notebook-cell:/d%3A/gitprojects/CSC448-AI/CSC448_Seo_Jinho_AS03.ipynb#ch0000016?line=6'>7</a>\u001b[0m \u001b[39mprint\u001b[39m(\u001b[39m\"\u001b[39m\u001b[39m{:<15}\u001b[39;00m\u001b[39m{}\u001b[39;00m\u001b[39m{}\u001b[39;00m\u001b[39m{:<15}\u001b[39;00m\u001b[39m{}\u001b[39;00m\u001b[39m\"\u001b[39m\u001b[39m.\u001b[39mformat(\u001b[39m\"\u001b[39m\u001b[39mX3_train Shape:\u001b[39m\u001b[39m\"\u001b[39m, X3_train\u001b[39m.\u001b[39mshape, \u001b[39m\"\u001b[39m\u001b[39m\\t\u001b[39;00m\u001b[39m\"\u001b[39m, \u001b[39m\"\u001b[39m\u001b[39mX3_test Shape:\u001b[39m\u001b[39m\"\u001b[39m, X3_test\u001b[39m.\u001b[39mshape))\n\u001b[0;32m      <a href='vscode-notebook-cell:/d%3A/gitprojects/CSC448-AI/CSC448_Seo_Jinho_AS03.ipynb#ch0000016?line=7'>8</a>\u001b[0m \u001b[39mprint\u001b[39m(\u001b[39m\"\u001b[39m\u001b[39m{:<15}\u001b[39;00m\u001b[39m{}\u001b[39;00m\u001b[39m{}\u001b[39;00m\u001b[39m{:<15}\u001b[39;00m\u001b[39m{}\u001b[39;00m\u001b[39m\"\u001b[39m\u001b[39m.\u001b[39mformat(\u001b[39m\"\u001b[39m\u001b[39mY_train Shape:\u001b[39m\u001b[39m\"\u001b[39m, Y_train\u001b[39m.\u001b[39mshape, \u001b[39m\"\u001b[39m\u001b[39m\\t\u001b[39;00m\u001b[39m\"\u001b[39m, \u001b[39m\"\u001b[39m\u001b[39mY_test Shape:\u001b[39m\u001b[39m\"\u001b[39m, Y_test\u001b[39m.\u001b[39mshape))\n",
            "File \u001b[1;32m~\\AppData\\Local\\Programs\\Python\\Python310\\lib\\site-packages\\sklearn\\model_selection\\_split.py:2417\u001b[0m, in \u001b[0;36mtrain_test_split\u001b[1;34m(test_size, train_size, random_state, shuffle, stratify, *arrays)\u001b[0m\n\u001b[0;32m   <a href='file:///c%3A/Users/pinea/AppData/Local/Programs/Python/Python310/lib/site-packages/sklearn/model_selection/_split.py?line=2413'>2414</a>\u001b[0m \u001b[39mif\u001b[39;00m n_arrays \u001b[39m==\u001b[39m \u001b[39m0\u001b[39m:\n\u001b[0;32m   <a href='file:///c%3A/Users/pinea/AppData/Local/Programs/Python/Python310/lib/site-packages/sklearn/model_selection/_split.py?line=2414'>2415</a>\u001b[0m     \u001b[39mraise\u001b[39;00m \u001b[39mValueError\u001b[39;00m(\u001b[39m\"\u001b[39m\u001b[39mAt least one array required as input\u001b[39m\u001b[39m\"\u001b[39m)\n\u001b[1;32m-> <a href='file:///c%3A/Users/pinea/AppData/Local/Programs/Python/Python310/lib/site-packages/sklearn/model_selection/_split.py?line=2416'>2417</a>\u001b[0m arrays \u001b[39m=\u001b[39m indexable(\u001b[39m*\u001b[39;49marrays)\n\u001b[0;32m   <a href='file:///c%3A/Users/pinea/AppData/Local/Programs/Python/Python310/lib/site-packages/sklearn/model_selection/_split.py?line=2418'>2419</a>\u001b[0m n_samples \u001b[39m=\u001b[39m _num_samples(arrays[\u001b[39m0\u001b[39m])\n\u001b[0;32m   <a href='file:///c%3A/Users/pinea/AppData/Local/Programs/Python/Python310/lib/site-packages/sklearn/model_selection/_split.py?line=2419'>2420</a>\u001b[0m n_train, n_test \u001b[39m=\u001b[39m _validate_shuffle_split(\n\u001b[0;32m   <a href='file:///c%3A/Users/pinea/AppData/Local/Programs/Python/Python310/lib/site-packages/sklearn/model_selection/_split.py?line=2420'>2421</a>\u001b[0m     n_samples, test_size, train_size, default_test_size\u001b[39m=\u001b[39m\u001b[39m0.25\u001b[39m\n\u001b[0;32m   <a href='file:///c%3A/Users/pinea/AppData/Local/Programs/Python/Python310/lib/site-packages/sklearn/model_selection/_split.py?line=2421'>2422</a>\u001b[0m )\n",
            "File \u001b[1;32m~\\AppData\\Local\\Programs\\Python\\Python310\\lib\\site-packages\\sklearn\\utils\\validation.py:378\u001b[0m, in \u001b[0;36mindexable\u001b[1;34m(*iterables)\u001b[0m\n\u001b[0;32m    <a href='file:///c%3A/Users/pinea/AppData/Local/Programs/Python/Python310/lib/site-packages/sklearn/utils/validation.py?line=358'>359</a>\u001b[0m \u001b[39m\"\"\"Make arrays indexable for cross-validation.\u001b[39;00m\n\u001b[0;32m    <a href='file:///c%3A/Users/pinea/AppData/Local/Programs/Python/Python310/lib/site-packages/sklearn/utils/validation.py?line=359'>360</a>\u001b[0m \n\u001b[0;32m    <a href='file:///c%3A/Users/pinea/AppData/Local/Programs/Python/Python310/lib/site-packages/sklearn/utils/validation.py?line=360'>361</a>\u001b[0m \u001b[39mChecks consistent length, passes through None, and ensures that everything\u001b[39;00m\n\u001b[1;32m   (...)\u001b[0m\n\u001b[0;32m    <a href='file:///c%3A/Users/pinea/AppData/Local/Programs/Python/Python310/lib/site-packages/sklearn/utils/validation.py?line=373'>374</a>\u001b[0m \u001b[39m    sparse matrix, or dataframe) or `None`.\u001b[39;00m\n\u001b[0;32m    <a href='file:///c%3A/Users/pinea/AppData/Local/Programs/Python/Python310/lib/site-packages/sklearn/utils/validation.py?line=374'>375</a>\u001b[0m \u001b[39m\"\"\"\u001b[39;00m\n\u001b[0;32m    <a href='file:///c%3A/Users/pinea/AppData/Local/Programs/Python/Python310/lib/site-packages/sklearn/utils/validation.py?line=376'>377</a>\u001b[0m result \u001b[39m=\u001b[39m [_make_indexable(X) \u001b[39mfor\u001b[39;00m X \u001b[39min\u001b[39;00m iterables]\n\u001b[1;32m--> <a href='file:///c%3A/Users/pinea/AppData/Local/Programs/Python/Python310/lib/site-packages/sklearn/utils/validation.py?line=377'>378</a>\u001b[0m check_consistent_length(\u001b[39m*\u001b[39;49mresult)\n\u001b[0;32m    <a href='file:///c%3A/Users/pinea/AppData/Local/Programs/Python/Python310/lib/site-packages/sklearn/utils/validation.py?line=378'>379</a>\u001b[0m \u001b[39mreturn\u001b[39;00m result\n",
            "File \u001b[1;32m~\\AppData\\Local\\Programs\\Python\\Python310\\lib\\site-packages\\sklearn\\utils\\validation.py:332\u001b[0m, in \u001b[0;36mcheck_consistent_length\u001b[1;34m(*arrays)\u001b[0m\n\u001b[0;32m    <a href='file:///c%3A/Users/pinea/AppData/Local/Programs/Python/Python310/lib/site-packages/sklearn/utils/validation.py?line=329'>330</a>\u001b[0m uniques \u001b[39m=\u001b[39m np\u001b[39m.\u001b[39munique(lengths)\n\u001b[0;32m    <a href='file:///c%3A/Users/pinea/AppData/Local/Programs/Python/Python310/lib/site-packages/sklearn/utils/validation.py?line=330'>331</a>\u001b[0m \u001b[39mif\u001b[39;00m \u001b[39mlen\u001b[39m(uniques) \u001b[39m>\u001b[39m \u001b[39m1\u001b[39m:\n\u001b[1;32m--> <a href='file:///c%3A/Users/pinea/AppData/Local/Programs/Python/Python310/lib/site-packages/sklearn/utils/validation.py?line=331'>332</a>\u001b[0m     \u001b[39mraise\u001b[39;00m \u001b[39mValueError\u001b[39;00m(\n\u001b[0;32m    <a href='file:///c%3A/Users/pinea/AppData/Local/Programs/Python/Python310/lib/site-packages/sklearn/utils/validation.py?line=332'>333</a>\u001b[0m         \u001b[39m\"\u001b[39m\u001b[39mFound input variables with inconsistent numbers of samples: \u001b[39m\u001b[39m%r\u001b[39;00m\u001b[39m\"\u001b[39m\n\u001b[0;32m    <a href='file:///c%3A/Users/pinea/AppData/Local/Programs/Python/Python310/lib/site-packages/sklearn/utils/validation.py?line=333'>334</a>\u001b[0m         \u001b[39m%\u001b[39m [\u001b[39mint\u001b[39m(l) \u001b[39mfor\u001b[39;00m l \u001b[39min\u001b[39;00m lengths]\n\u001b[0;32m    <a href='file:///c%3A/Users/pinea/AppData/Local/Programs/Python/Python310/lib/site-packages/sklearn/utils/validation.py?line=334'>335</a>\u001b[0m     )\n",
            "\u001b[1;31mValueError\u001b[0m: Found input variables with inconsistent numbers of samples: [2000, 1000]"
          ]
        }
      ],
      "source": [
        "# Using the PolynomialFeatures library perform another regression on an augmented dataset of degree 2\n",
        "\n",
        "X3 = df[features].values.reshape(-1, -1)\n",
        "# Y = df[target].values.reshape(-1)\n",
        "\n",
        "\n",
        "X3_train, X3_test, Y_train, Y_test = train_test_split(X3, Y, test_size=0.1, random_state=10)\n",
        "\n",
        "print(\"{:<15}{}{}{:<15}{}\".format(\"X3_train Shape:\", X3_train.shape, \"\\t\", \"X3_test Shape:\", X3_test.shape))\n",
        "print(\"{:<15}{}{}{:<15}{}\".format(\"Y_train Shape:\", Y_train.shape, \"\\t\", \"Y_test Shape:\", Y_test.shape))\n",
        "\n",
        "poly_reg = PolynomialFeatures(degree=2)\n",
        "X3_poly_train = poly_reg.fit_transform(X3_train)\n",
        "poly_reg.fit(X3_poly_train, Y_train)\n",
        "\n",
        "lin_reg2=LinearRegression()\n",
        "lin_reg2.fit(X3_poly_train, Y_train)\n",
        "\n",
        "lin_reg2.predict( poly_reg.fit_transform(array([ [500] ]) ))\n",
        "\n",
        "# sample = [[500, 500], [600, 600], [700, 700], [800, 800]]\n",
        "# preds_y3 = poly_reg.predict(sample)\n",
        "\n",
        "# for idx, pred in enumerate(preds_y3):\n",
        "#     print(str(sample[idx]) + \" -> Preds_Y:\", pred)\n",
        "\n",
        "\n",
        "# # Report on the score for that model, in your own words (markdown, not code) explain what the score means\n",
        "# print(\"\\nScore:\", poly_reg.score(X3_test, Y_test))\n",
        "\n",
        "# # Explanation\n",
        "# # Using linearRegression algorithm, we traind the data set X and Y, predicting new Ys depends on sample datapoints.\n",
        "# # Based on the scores, we can tell how accurately the chosen algorithm woulde predict outputs by given trained dataset\n",
        "# # ; the hight score means higher accuratcy in predecting outouts. In our case, score is 88% which means linearRegression \n",
        "# # algorithm has 88% accuracy to predict expanding size of the slime by temperature and amounts of KCL after one day.\n",
        "   \n",
        "# # Extract the coefficents and intercept from the model and write an equation for your h(x) using LaTeX\n",
        "# print(\"\\nCoefficients: \\n\", poly_reg.coef_)\n",
        "# print(\"Intercept:\", poly_reg.intercept_ )\n",
        "\n",
        "\n",
        "\n",
        "# Report on the metrics and output the resultant equation as you did in Part 3.\n",
        "\n",
        "\n",
        "\n",
        "# #Visualising the pollynomial regression model results\n",
        "# # X_grid=np.arange(min(X),max(X),0.1)\n",
        "# # X_grid=X_grid.reshape((len(X_grid),1))\n",
        "# plt.scatter(X3_poly_train, Y_train,color='red')\n",
        "# # plt.plot(X3,lin_reg2.predict(poly_reg.fit_transform(X3)),color='blue')\n",
        "# plt.title('Truth or bluff(Polynomial Regression)')\n",
        "# plt.xlabel('Position Level')\n",
        "# plt.ylabel('Salary')\n",
        "# plt.show()\n",
        "\n",
        "\n"
      ]
    }
  ],
  "metadata": {
    "colab": {
      "name": "CSC448_Seo_Jinho_AS03.ipynb",
      "provenance": []
    },
    "kernelspec": {
      "display_name": "Python 3 (ipykernel)",
      "language": "python",
      "name": "python3"
    },
    "language_info": {
      "codemirror_mode": {
        "name": "ipython",
        "version": 3
      },
      "file_extension": ".py",
      "mimetype": "text/x-python",
      "name": "python",
      "nbconvert_exporter": "python",
      "pygments_lexer": "ipython3",
      "version": "3.10.1"
    }
  },
  "nbformat": 4,
  "nbformat_minor": 0
}

{
  "cells": [
    {
      "cell_type": "markdown",
      "metadata": {
        "id": "D3ucbG-0Vd_n"
      },
      "source": [
        "<a href=\"https://colab.research.google.com/github/PineappleBingo/CSC448-AI/blob/main/CSC448_Seo_Jinho_AS03.ipynb\" target=\"_parent\"><img src=\"https://colab.research.google.com/assets/colab-badge.svg\" alt=\"Open In Colab\"/></a>"
      ]
    },
    {
      "cell_type": "code",
      "execution_count": 3,
      "metadata": {
        "id": "ieJ4qlv5Vd_q"
      },
      "outputs": [],
      "source": [
        "# Imports section\n",
        "import pandas as pd\n",
        "import requests\n",
        "import io"
      ]
    },
    {
      "cell_type": "markdown",
      "metadata": {
        "id": "VvpqV3tTVd_r"
      },
      "source": [
        "## Part 1. Loading the dataset"
      ]
    },
    {
      "cell_type": "code",
      "execution_count": 4,
      "metadata": {
        "id": "qoCco9OvVd_r"
      },
      "outputs": [
        {
          "name": "stdout",
          "output_type": "stream",
          "text": [
            "     Temperature °C  Mols KCL     Size nm^3\n",
            "0               469       647  6.244743e+05\n",
            "1               403       694  5.779610e+05\n",
            "2               302       975  6.196847e+05\n",
            "3               779       916  1.460449e+06\n",
            "4               901        18  4.325726e+04\n",
            "..              ...       ...           ...\n",
            "995             894       847  1.545661e+06\n",
            "996             327       982  6.737041e+05\n",
            "997             791       213  3.477543e+05\n",
            "998             769       553  8.684794e+05\n",
            "999             919       452  8.476413e+05\n",
            "\n",
            "[1000 rows x 3 columns]\n"
          ]
        }
      ],
      "source": [
        "# Using pandas load the dataset (load remotely, not locally)\n",
        "CSV_URL = \"https://raw.githubusercontent.com/profmcnich/example_notebook/main/science_data_large.csv\"\n",
        "s = requests.get(CSV_URL).content\n",
        "df = pd.read_csv(io.StringIO(s.decode('utf-8')))\n",
        "\n",
        "print(df)\n",
        "# Output the first 15 rows of the data\n",
        "# Display a summary of the table information (number of datapoints, etc.)"
      ]
    },
    {
      "cell_type": "markdown",
      "metadata": {
        "id": "7OuKtJOpVd_r"
      },
      "source": [
        "## Part 2. Splitting the dataset"
      ]
    },
    {
      "cell_type": "code",
      "execution_count": 5,
      "metadata": {
        "id": "ey692r5EVd_s"
      },
      "outputs": [],
      "source": [
        "# Take the pandas dataset and split it into our features (X) and label (y)\n",
        "\n",
        "# Use sklearn to split the features and labels into a training/test set. (90% train, 10% test)"
      ]
    },
    {
      "cell_type": "markdown",
      "metadata": {
        "id": "HGbTMDOwVd_s"
      },
      "source": [
        "## Part 3. Perform a Linear Regression"
      ]
    },
    {
      "cell_type": "code",
      "execution_count": 6,
      "metadata": {
        "id": "ET4kuqIWVd_s"
      },
      "outputs": [],
      "source": [
        "# Use sklearn to train a model on the training set\n",
        "\n",
        "# Create a sample datapoint and predict the output of that sample with the trained model\n",
        "\n",
        "# Report on the score for that model, in your own words (markdown, not code) explain what the score means\n",
        "\n",
        "# Extract the coefficents and intercept from the model and write an equation for your h(x) using LaTeX"
      ]
    },
    {
      "cell_type": "markdown",
      "metadata": {
        "id": "eBFDiIDcVd_t"
      },
      "source": [
        "Sample equation: $E = mc^2$"
      ]
    },
    {
      "cell_type": "markdown",
      "metadata": {
        "id": "mY_nbq4rVd_t"
      },
      "source": [
        "## Part 4. Use Cross Validation"
      ]
    },
    {
      "cell_type": "code",
      "execution_count": 7,
      "metadata": {
        "id": "Se13DqEGVd_t"
      },
      "outputs": [],
      "source": [
        "# Use the cross_val_score function to repeat your experiment across many shuffles of the data\n",
        "\n",
        "# Report on their finding and their significance"
      ]
    },
    {
      "cell_type": "markdown",
      "metadata": {
        "id": "lJpNUSTzVd_u"
      },
      "source": [
        "## Part 5. Using Polynomial Regression"
      ]
    },
    {
      "cell_type": "code",
      "execution_count": 8,
      "metadata": {
        "id": "lMuA8pgHVd_u"
      },
      "outputs": [],
      "source": [
        "# Using the PolynomialFeatures library perform another regression on an augmented dataset of degree 2\n",
        "\n",
        "# Report on the metrics and output the resultant equation as you did in Part 3."
      ]
    }
  ],
  "metadata": {
    "colab": {
      "name": "CSC448_Seo_Jinho_AS03.ipynb",
      "provenance": []
    },
    "kernelspec": {
      "display_name": "Python 3 (ipykernel)",
      "language": "python",
      "name": "python3"
    },
    "language_info": {
      "codemirror_mode": {
        "name": "ipython",
        "version": 3
      },
      "file_extension": ".py",
      "mimetype": "text/x-python",
      "name": "python",
      "nbconvert_exporter": "python",
      "pygments_lexer": "ipython3",
      "version": "3.10.1"
    }
  },
  "nbformat": 4,
  "nbformat_minor": 0
}
